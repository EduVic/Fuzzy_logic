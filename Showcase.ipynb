{
 "cells": [
  {
   "cell_type": "markdown",
   "metadata": {},
   "source": [
    "# Fuzzy Logic for Python 3\n",
    "\n",
    "In my ventures into game dev, scheduling etc. I often came across the need to normalize values and apply some logic on these values. I thought that fuzzy logic would be the best tool for this job, but the libraries I found were not easily integrated into the rest of my code and not very intuitive to use.\n",
    "One of my (many) approaches was to actually build fuzzy values out of native python bools or floats, but this was not supported by the language itself due to restrictions on what can be done with bool. Then I started to collect useful math functions from different places and made them usable just by pluggin them in.\n",
    "\n",
    "The doctests in the modules should give a good idea how to use things by themselves, while here are some examples how to use everything together."
   ]
  },
  {
   "cell_type": "markdown",
   "metadata": {},
   "source": [
    "## Usage\n",
    "\n",
    "1. Define a Domain and specify the measurable range & resolution.\n",
    "2. Define some fuzzysets (\"adjectives\") as attributes that describe ranges within\n",
    "the domain using Set(). Each set is defined by its membership function func(REAL) -> [0,1]\n",
    "3. You can combine fuzzysets of the same domain using fuzzy logic operators (~, &, |, +, *) to\n",
    "define derived fuzzysets.\n",
    "4. Now suppose you have a value x. Call the fuzzyset(x) directly to produce a\n",
    "membership value or call the domain with it to get a dictionary of memberships.\n",
    "5. To really put these to work, you will want to map membership values of one or\n",
    "more domains onto another domain, producing \"real world\" values again that can\n",
    "be used to control things. This is called inference (combining domains) and\n",
    "defuzzification (turning membership values back into measurables)."
   ]
  },
  {
   "cell_type": "code",
   "execution_count": null,
   "metadata": {
    "collapsed": false
   },
   "outputs": [],
   "source": [
    "%matplotlib inline\n",
    "from fuzzy.classes import Domain, Set\n",
    "from fuzzy.functions import alpha, triangular\n",
    "from fuzzy.hedges import plus, minus\n",
    "\n",
    "numbers = Domain(\"numbers\", low=0, high=20, res=0.1)\n",
    "close_to_10 = Set(numbers, alpha(0.2, 0.8, \n",
    "                            triangular(0, 20)\n",
    "                            ))\n",
    "close_to_5 = Set(numbers, triangular(1,10))\n",
    "foo = plus(minus(close_to_5))\n",
    "bar = close_to_10\n",
    "bar.plot()\n",
    "foo.plot()\n",
    "baz = foo + bar\n",
    "baz.plot()"
   ]
  },
  {
   "cell_type": "markdown",
   "metadata": {},
   "source": [
    "## Rules\n",
    "\n",
    "Rules aka Fuzzy Inference is done when domains and sets are defined to combine sets of different domains. "
   ]
  },
  {
   "cell_type": "code",
   "execution_count": 7,
   "metadata": {
    "collapsed": false
   },
   "outputs": [
    {
     "ename": "AttributeError",
     "evalue": "'NotImplementedType' object has no attribute 'copy'",
     "output_type": "error",
     "traceback": [
      "\u001b[0;31m---------------------------------------------------------------------------\u001b[0m",
      "\u001b[0;31mAttributeError\u001b[0m                            Traceback (most recent call last)",
      "\u001b[0;32m<ipython-input-7-4a94e0f36941>\u001b[0m in \u001b[0;36m<module>\u001b[0;34m()\u001b[0m\n\u001b[1;32m      8\u001b[0m \u001b[0md1\u001b[0m \u001b[0;34m=\u001b[0m \u001b[0mtemp\u001b[0m\u001b[0;34m(\u001b[0m\u001b[0;36m32\u001b[0m\u001b[0;34m)\u001b[0m   \u001b[0;31m# {'temperature.hot': 1}\u001b[0m\u001b[0;34m\u001b[0m\u001b[0m\n\u001b[1;32m      9\u001b[0m \u001b[0md2\u001b[0m \u001b[0;34m=\u001b[0m \u001b[0mdist\u001b[0m\u001b[0;34m(\u001b[0m\u001b[0;36m5\u001b[0m\u001b[0;34m)\u001b[0m    \u001b[0;31m# {'distance.close': 0}\u001b[0m\u001b[0;34m\u001b[0m\u001b[0m\n\u001b[0;32m---> 10\u001b[0;31m \u001b[0md\u001b[0m \u001b[0;34m=\u001b[0m \u001b[0md1\u001b[0m\u001b[0;34m.\u001b[0m\u001b[0mcopy\u001b[0m\u001b[0;34m(\u001b[0m\u001b[0;34m)\u001b[0m   \u001b[0;31m# need to merge the results of the Domains\u001b[0m\u001b[0;34m\u001b[0m\u001b[0m\n\u001b[0m\u001b[1;32m     11\u001b[0m \u001b[0md\u001b[0m\u001b[0;34m.\u001b[0m\u001b[0mupdate\u001b[0m\u001b[0;34m(\u001b[0m\u001b[0md2\u001b[0m\u001b[0;34m)\u001b[0m    \u001b[0;31m# for py3.5: https://www.python.org/dev/peps/pep-0448/\u001b[0m\u001b[0;34m\u001b[0m\u001b[0m\n\u001b[1;32m     12\u001b[0m \u001b[0mr\u001b[0m\u001b[0;34m(\u001b[0m\u001b[0md\u001b[0m\u001b[0;34m)\u001b[0m    \u001b[0;31m# min(1, 0)\u001b[0m\u001b[0;34m\u001b[0m\u001b[0m\n",
      "\u001b[0;31mAttributeError\u001b[0m: 'NotImplementedType' object has no attribute 'copy'"
     ]
    }
   ],
   "source": [
    "from fuzzy.classes import Domain, Set, Rule\n",
    "    \n",
    "temp = Domain(\"temperature\", 0, 100)\n",
    "temp.hot = Set(temp, lambda x: 1)\n",
    "dist = Domain(\"distance\", 0, 300)\n",
    "dist.close = Set(dist, lambda x: 0)\n",
    "r = Rule(min, [\"distance.close\", \"temperature.hot\"])\n",
    "d1 = temp(32)   # {'temperature.hot': 1}\n",
    "d2 = dist(5)    # {'distance.close': 0}\n",
    "d = d1.copy()   # need to merge the results of the Domains\n",
    "d.update(d2)    # for py3.5: https://www.python.org/dev/peps/pep-0448/\n",
    "r(d)    # min(1, 0)"
   ]
  },
  {
   "cell_type": "markdown",
   "metadata": {},
   "source": [
    "## Sources\n",
    "* Fuzzy Logic and Control: Software and Hardware Applications, Volume 2\n",
    "\n",
    "      By: Mohammad Jamshidi; Nader Vadiee; Timothy J. Ross - University of New Mexico\n",
    "      Publisher: Prentice Hall\n",
    "      Pub. Date: June 07, 1993"
   ]
  }
 ],
 "metadata": {
  "anaconda-cloud": {},
  "kernelspec": {
   "display_name": "Python 3",
   "language": "python",
   "name": "python3"
  },
  "language_info": {
   "codemirror_mode": {
    "name": "ipython",
    "version": 3
   },
   "file_extension": ".py",
   "mimetype": "text/x-python",
   "name": "python",
   "nbconvert_exporter": "python",
   "pygments_lexer": "ipython3",
   "version": "3.6.0+"
  }
 },
 "nbformat": 4,
 "nbformat_minor": 0
}
