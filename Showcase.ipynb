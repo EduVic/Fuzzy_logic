{
 "cells": [
  {
   "cell_type": "markdown",
   "metadata": {},
   "source": [
    "# Fuzzy Logic for Python 3\n",
    "\n",
    "In my ventures into game dev, scheduling etc. I often came across the need to normalize values and apply some logic on these values. I thought that fuzzy logic would be the best tool for this job, but the libraries I found were not easily integrated into the rest of my code and not very intuitive to use.\n",
    "One of my (many) approaches was to actually build fuzzy values out of native python bools or floats, but this was not supported by the language itself due to restrictions on what can be done with bool. Then I started to collect useful math functions from different places and made them usable just by pluggin them in.\n",
    "\n",
    "The doctests in the modules should give a good idea how to use things by themselves, while here are some examples how to use everything together."
   ]
  },
  {
   "cell_type": "markdown",
   "metadata": {},
   "source": [
    "## Usage\n",
    "\n",
    "1. Define a Domain and specify the measurable range & resolution.\n",
    "2. Define some fuzzysets (\"adjectives\") as attributes that describe ranges within\n",
    "the domain using Set(). Each set is defined by its membership function func(REAL) -> [0,1]\n",
    "3. You can combine fuzzysets of the same domain using fuzzy logic operators (~, &, |, +, *) to\n",
    "define derived fuzzysets.\n",
    "4. Now suppose you have a value x. Call the fuzzyset(x) directly to produce a\n",
    "membership value or call the domain with it to get a dictionary of memberships.\n",
    "5. To really put these to work, you will want to map membership values of one or\n",
    "more domains onto another domain, producing \"real world\" values again that can\n",
    "be used to control things. This is called inference (combining domains) and\n",
    "defuzzification (turning membership values back into measurables)."
   ]
  },
  {
   "cell_type": "code",
   "execution_count": null,
   "metadata": {
    "collapsed": false
   },
   "outputs": [],
   "source": [
    "%matplotlib inline\n",
    "\n",
    "from fuzzy.classes import Domain, Set\n",
    "from fuzzy.functions import alpha, triangular\n",
    "from fuzzy.hedges import plus, minus, very\n",
    "\n",
    "numbers = Domain(\"numbers\", low=0, high=20, res=0.1)\n",
    "numbers.close_to_10 = Set(numbers, alpha(0.2, 0.8, \n",
    "                            triangular(0, 20)\n",
    "                            ))\n",
    "numbers.close_to_5 = Set(numbers, triangular(1,10))\n",
    "\n",
    "foo = minus(numbers.close_to_5)\n",
    "bar = very(numbers.close_to_10)\n",
    "bar.plot()\n",
    "foo.plot()\n",
    "baz = foo + bar\n",
    "baz.plot()\n",
    "\n",
    "numbers(11)\n"
   ]
  },
  {
   "cell_type": "code",
   "execution_count": 11,
   "metadata": {
    "collapsed": false
   },
   "outputs": [
    {
     "data": {
      "image/png": "[encoded data removed]",
      "text/plain": [
       "<matplotlib.figure.Figure at 0x7f7c9cf24c18>"
      ]
     },
     "metadata": {},
     "output_type": "display_data"
    }
   ],
   "source": [
    "%matplotlib inline\n",
    "\n",
    "from fuzzy.classes import Domain, Set\n",
    "from fuzzy.functions import alpha, triangular, gauss\n",
    "from fuzzy.hedges import plus, minus, very\n",
    "\n",
    "numbers = Domain(\"numbers\", low=0, high=20, res=0.1)\n",
    "numbers.close_to_10 = Set(numbers, gauss(10, 10))\n",
    "\n",
    "numbers.close_to_10.plot()"
   ]
  },
  {
   "cell_type": "markdown",
   "metadata": {},
   "source": [
    "## Rules\n",
    "Rules aka *Fuzzy Inference* is done when domains and sets are defined to combine sets of different domains. For this to work, first we need to make sure we only get a single membership value if we query a domain with multiple sets. "
   ]
  },
  {
   "cell_type": "code",
   "execution_count": null,
   "metadata": {
    "collapsed": false
   },
   "outputs": [],
   "source": [
    "from numpy import outer\n",
    "\n",
    "from fuzzy.classes import Domain, Set, Rule\n",
    "from fuzzy.functions import triangular\n",
    "\n",
    "form = Domain(\"form\", 1, 4.1, res=1)\n",
    "medium_form = Set(form, triangular(1, 4, p=3))\n",
    "medium_form.plot()\n",
    "\n",
    "diff = Domain(\"difficulty\", 1, 5.1, res=1)\n",
    "medium_difficulty = Set(diff, triangular(1,5, p=3))\n",
    "medium_difficulty.plot()\n",
    "\n",
    "# this should be \n",
    "# max(min(m_a(x), m_b(x)), 1-m_a(x)) for every elem\n",
    "outer([0, 0.6, 1, 0.2], [0, 0.4, 1, 0.8, 0.3, 0])\n",
    "\n",
    "\n",
    "fromiter"
   ]
  },
  {
   "cell_type": "markdown",
   "metadata": {},
   "source": [
    "## Sources\n",
    "* Fuzzy Logic and Control: Software and Hardware Applications, Volume 2\n",
    "\n",
    "      By: Mohammad Jamshidi; Nader Vadiee; Timothy J. Ross - University of New Mexico\n",
    "      Publisher: Prentice Hall\n",
    "      Pub. Date: June 07, 1993"
   ]
  }
 ],
 "metadata": {
  "anaconda-cloud": {},
  "kernelspec": {
   "display_name": "Python 3",
   "language": "python",
   "name": "python3"
  },
  "language_info": {
   "codemirror_mode": {
    "name": "ipython",
    "version": 3
   },
   "file_extension": ".py",
   "mimetype": "text/x-python",
   "name": "python",
   "nbconvert_exporter": "python",
   "pygments_lexer": "ipython3",
   "version": "3.6.0+"
  }
 },
 "nbformat": 4,
 "nbformat_minor": 0
}
