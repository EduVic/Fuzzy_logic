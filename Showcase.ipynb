{
 "cells": [
  {
   "cell_type": "markdown",
   "metadata": {},
   "source": [
    "# Fuzzy Logic for Python 3\n",
    "\n",
    "In my ventures into game dev, scheduling etc. I often came across the need to normalize values and apply some logic on these values. I thought that fuzzy logic would be the best tool for this job, but the libraries I found were not easily integrated into the rest of my code and not very intuitive to use.\n",
    "One of my (many) approaches was to actually build fuzzy values out of native python bools or floats, but this was not supported by the language itself due to restrictions on what can be done with bool. Then I started to collect useful math functions from different places and made them usable just by pluggin them in.\n",
    "\n",
    "\n",
    "\n",
    "### precedence\n",
    "order of precedence should be:\n",
    "\n",
    "1. hedges, not\n",
    "2. and\n",
    "3. or\n",
    "\n",
    "\n",
    "## Sources\n",
    "* Fuzzy Logic and Control: Software and Hardware Applications, Volume 2\n",
    "\n",
    "      By: Mohammad Jamshidi; Nader Vadiee; Timothy J. Ross - University of New Mexico\n",
    "      Publisher: Prentice Hall\n",
    "      Pub. Date: June 07, 1993"
   ]
  },
  {
   "cell_type": "code",
   "execution_count": null,
   "metadata": {
    "collapsed": false
   },
   "outputs": [],
   "source": [
    "%matplotlib inline\n",
    "from classes import Domain, Set, Rule\n",
    "from functions import S, R\n",
    "\n",
    "zeit = Domain(\"time\", low=0, high=24, res=0.1)\n",
    "morgen = Set(zeit, S(0, 8))\n",
    "abend = Set(zeit, R(18, 24))\n",
    "mittag = ~morgen & ~abend\n",
    "\n",
    "morgen.plot()\n",
    "abend.plot()\n",
    "mittag.plot()\n"
   ]
  },
  {
   "cell_type": "code",
   "execution_count": null,
   "metadata": {
    "collapsed": false
   },
   "outputs": [],
   "source": [
    "from fuzzy.classes import Domain, Set, Rule\n",
    "from fuzzy.functions import S, R\n",
    "\n",
    "dist = Domain(\"distance\", low=0, high=1000, res=0.1)\n",
    "near = Set(dist, S(0, 100))\n",
    "\n",
    "standing = Domain(\"standing\", low=0, high=100)\n",
    "friendly = Set(standing, R(0, 100))\n",
    "\n",
    "reaction = Domain(\"reaction\", low=0, high=10)\n",
    "aggro = IF(near & ~friendly, reaction)"
   ]
  }
 ],
 "metadata": {
  "anaconda-cloud": {},
  "kernelspec": {
   "display_name": "Python 3",
   "language": "python",
   "name": "python3"
  },
  "language_info": {
   "codemirror_mode": {
    "name": "ipython",
    "version": 3
   },
   "file_extension": ".py",
   "mimetype": "text/x-python",
   "name": "python",
   "nbconvert_exporter": "python",
   "pygments_lexer": "ipython3",
   "version": "3.6.0+"
  }
 },
 "nbformat": 4,
 "nbformat_minor": 0
}
