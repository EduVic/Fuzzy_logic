{
 "cells": [
  {
   "cell_type": "markdown",
   "metadata": {},
   "source": [
    "# Fuzzy Logic for Python 3\n",
    "\n",
    "In my ventures into game dev, scheduling etc. I often came across the need to normalize values and apply some logic on these values. I thought that fuzzy logic would be the best tool for this job, but the libraries I found were not easily integrated into the rest of my code and not very intuitive to use.\n",
    "One of my (many) approaches was to actually build fuzzy values out of native python bools or floats, but this was not supported by the language itself due to restrictions on what can be done with bool. Then I started to collect useful math functions from different places and made them usable just by pluggin them in.\n",
    "\n",
    "The doctests in the modules should give a good idea how to use things by themselves, while here are some examples how to use everything together."
   ]
  },
  {
   "cell_type": "markdown",
   "metadata": {},
   "source": [
    "### Functions and Sets\n",
    "Defining a domain with its range and resolution should be trivial since most real world instruments come with those specifications. However, defining the fuzzy sets within those domains is where the fun begins as only a human can tell whether something is \"hot\" or \"not\", right?\n",
    "I've included some simple convenience functions that combine two or more functions over a range, however I consciously left out more complex \"convenience\" functions such as polygons because it is probably easier to just build those as combinations of sets.\n",
    "\n",
    "Why the distinction? Functions only map values, nothing special there at all - which is good for testing and performance. Sets on the other hand implement logical operations that have special python syntax, which makes it easy to work with but a little more difficult to test and adds some performance overhead. So, sets are for abstraction and easy handling, functions for performance.\n",
    "It is possible to implement everything as pure classes as well as pure functions (been there, done that) but both approaches make things either harder to test and optimize or very hard to read."
   ]
  },
  {
   "cell_type": "code",
   "execution_count": 55,
   "metadata": {
    "collapsed": false
   },
   "outputs": [
    {
     "data": {
      "text/plain": [
       "{'cold': 0.6, 'hot': 0, 'warm': 0.4}"
      ]
     },
     "execution_count": 55,
     "metadata": {},
     "output_type": "execute_result"
    }
   ],
   "source": [
    "%matplotlib inline\n",
    "from fuzzy.classes import Domain, Set\n",
    "from fuzzy.functions import R, S, alpha\n",
    "\n",
    "T = Domain(\"test\", 0, 30, res=0.1)\n",
    "\n",
    "up = Set(R(0,10))\n",
    "top = Set(alpha(0.5, 1, S(0, 30)))\n",
    "down = Set(S(20, 30))\n",
    "T.polygon = up & top & down\n",
    "\n",
    "#T.polygon.plot()\n",
    "#T.not_polygon = ~T.polygon\n",
    "#T.not_polygon.plot()\n",
    "\n",
    "temp = Domain('temperature', -100, 100, 1)  # in Celsius\n",
    "temp.cold = Set(S(0, 15))\n",
    "temp.hot = Set(R(10, 30))\n",
    "temp.warm = ~cold & ~hot\n",
    "temp(6)"
   ]
  },
  {
   "cell_type": "markdown",
   "metadata": {},
   "source": [
    "### Domains\n",
    "\n",
    "After specifying the domain and assigning sets, calling a domain with a value returns a dict of memberships of the sets in that domain."
   ]
  },
  {
   "cell_type": "code",
   "execution_count": 3,
   "metadata": {
    "collapsed": false
   },
   "outputs": [
    {
     "data": {
      "text/plain": [
       "{'bar': 0.6400000000000001,\n",
       " 'baz': 0.8359591794226543,\n",
       " 'foo': 0.5443310539518174}"
      ]
     },
     "execution_count": 3,
     "metadata": {},
     "output_type": "execute_result"
    },
    {
     "data": {
      "image/png": "[encoded data removed]",
      "text/plain": [
       "<matplotlib.figure.Figure at 0x7f951b87b5c0>"
      ]
     },
     "metadata": {},
     "output_type": "display_data"
    }
   ],
   "source": [
    "%matplotlib inline\n",
    "\n",
    "from fuzzy.classes import Domain, Set\n",
    "from fuzzy.functions import alpha, triangular\n",
    "from fuzzy.hedges import plus, minus, very\n",
    "\n",
    "numbers = Domain(\"numbers\", 0, 20, res=0.1)\n",
    "\n",
    "close_to_10 = Set(alpha(0.2, 0.8, triangular(0, 20)))\n",
    "close_to_5 = Set(triangular(1,10))\n",
    "\n",
    "numbers.foo = minus(close_to_5)\n",
    "numbers.bar = very(close_to_10)\n",
    "\n",
    "numbers.bar.plot()\n",
    "numbers.foo.plot()\n",
    "numbers.baz = numbers.foo + numbers.bar\n",
    "numbers.baz.plot()\n",
    "\n",
    "numbers(8)"
   ]
  },
  {
   "cell_type": "markdown",
   "metadata": {},
   "source": [
    "### Inference\n",
    "\n",
    "After measuring a RL value and mapping it to sets within a domain, it is normally needed to translate the result to another domain that corresponds to some sort of control mechanism. This translation or mapping is called inference and is rooted in the logical conclusion operation A => B, for example: If it rains then the street is wet.\n",
    "The street may be wet for a number of reasons, but if it rains it will be wet for sure. This **IF A THEN B** can also be written as\n",
    "***(A AND B) OR NOT(A AND TRUE)***. This may look straight forward for boolean logic, but since we are not just dealing with True and False, there are a number of ways in fuzzy logic to actually implement this.\n",
    "\n",
    "This is where "
   ]
  },
  {
   "cell_type": "code",
   "execution_count": 8,
   "metadata": {
    "collapsed": false
   },
   "outputs": [
    {
     "data": {
      "text/plain": [
       "{'close_10': Set(<function gauss.<locals>.f at 0x7f9518d55a60>, domain=numbers, name=close_10),\n",
       " 'close_5': Set(<function triangular.<locals>.f at 0x7f9518d55e18>, domain=numbers, name=close_5)}"
      ]
     },
     "execution_count": 8,
     "metadata": {},
     "output_type": "execute_result"
    }
   ],
   "source": [
    "%matplotlib inline\n",
    "\n",
    "from fuzzy.classes import Domain, Set, Rule\n",
    "from fuzzy.functions import alpha, triangular, gauss, R, S\n",
    "from fuzzy.hedges import plus, minus, very\n",
    "\n",
    "N = Domain(\"numbers\", low=0, high=20, res=0.1)\n",
    "N.close_5 = Set(triangular(2, 10, c=5))\n",
    "N.close_10 = Set(gauss(10, 10))\n"
   ]
  },
  {
   "cell_type": "code",
   "execution_count": null,
   "metadata": {
    "collapsed": false
   },
   "outputs": [],
   "source": [
    "from numpy import outer\n",
    "\n",
    "from fuzzy.classes import Domain, Set, Rule\n",
    "from fuzzy.functions import triangular\n",
    "\n",
    "form = Domain(\"form\", 1, 4.1, res=1)\n",
    "medium_form = Set(form, triangular(1, 4, p=3))\n",
    "medium_form.plot()\n",
    "\n",
    "diff = Domain(\"difficulty\", 1, 5.1, res=1)\n",
    "medium_difficulty = Set(diff, triangular(1,5, p=3))\n",
    "medium_difficulty.plot()\n",
    "\n",
    "# this should be\n",
    "# max(min(m_a(x), m_b(x)), 1-m_a(x)) for every elem\n",
    "outer([0, 0.6, 1, 0.2], [0, 0.4, 1, 0.8, 0.3, 0])\n",
    "\n",
    "\n",
    "fromiter"
   ]
  },
  {
   "cell_type": "markdown",
   "metadata": {},
   "source": [
    "## Sources\n",
    "* Fuzzy Logic and Control: Software and Hardware Applications, Volume 2\n",
    "\n",
    "      By: Mohammad Jamshidi; Nader Vadiee; Timothy J. Ross - University of New Mexico\n",
    "      Publisher: Prentice Hall\n",
    "      Pub. Date: June 07, 1993"
   ]
  }
 ],
 "metadata": {
  "anaconda-cloud": {},
  "kernelspec": {
   "display_name": "Python 3",
   "language": "python",
   "name": "python3"
  },
  "language_info": {
   "codemirror_mode": {
    "name": "ipython",
    "version": 3
   },
   "file_extension": ".py",
   "mimetype": "text/x-python",
   "name": "python",
   "nbconvert_exporter": "python",
   "pygments_lexer": "ipython3",
   "version": "3.6.0+"
  }
 },
 "nbformat": 4,
 "nbformat_minor": 0
}
