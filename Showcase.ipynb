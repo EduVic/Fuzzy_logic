{
 "cells": [
  {
   "cell_type": "markdown",
   "metadata": {},
   "source": [
    "# Fuzzy Logic for Python 3\n",
    "\n",
    "The doctests in the modules should give a good idea how to use things by themselves, while here are some examples how to use everything together."
   ]
  },
  {
   "cell_type": "markdown",
   "metadata": {},
   "source": [
    "### Functions and Sets\n",
    "Defining a domain with its range and resolution should be trivial since most real world instruments come with those specifications. However, defining the fuzzy sets within those domains is where the fun begins as only a human can tell whether something is \"hot\" or \"not\", right?\n",
    "I've included some simple convenience functions that combine two or more functions over a range, however I consciously left out more complex \"convenience\" functions such as polygons because it is probably easier to just build those as combinations of sets.\n",
    "\n",
    "Why the distinction? Functions only map values, nothing special there at all - which is good for testing and performance. Sets on the other hand implement logical operations that have special python syntax, which makes it easy to work with but a little more difficult to test and adds some performance overhead. So, sets are for abstraction and easy handling, functions for performance."
   ]
  },
  {
   "cell_type": "code",
   "execution_count": 4,
   "metadata": {
    "collapsed": false
   },
   "outputs": [
    {
     "data": {
      "text/plain": [
       "0"
      ]
     },
     "execution_count": 4,
     "metadata": {},
     "output_type": "execute_result"
    }
   ],
   "source": [
    "%matplotlib inline\n",
    "from fuzzy.classes import Domain, Set\n",
    "from fuzzy.functions import R, S, alpha\n",
    "\n",
    "T = Domain(\"test\", 0, 30, res=0.1)\n",
    "\n",
    "up = Set(R(0,10))\n",
    "top = Set(alpha(0.5, 1, S(0, 30)))\n",
    "down = Set(S(20, 30))\n",
    "T.polygon = up & top & down\n",
    "\n",
    "T.polygon\n",
    "#T.not_polygon = ~T.polygon\n",
    "#T.not_polygon.plot()\n",
    "\n",
    "d = Domain(\"d\", 0, 1, res=float(\"inf\"))\n",
    "d.x = Set(lambda x: 0)\n",
    "len(d.x)"
   ]
  },
  {
   "cell_type": "markdown",
   "metadata": {},
   "source": [
    "### Domains\n",
    "\n",
    "After specifying the domain and assigning sets, calling a domain with a value returns a dict of memberships of the sets in that domain."
   ]
  },
  {
   "cell_type": "code",
   "execution_count": null,
   "metadata": {
    "collapsed": false
   },
   "outputs": [],
   "source": [
    "%matplotlib inline\n",
    "\n",
    "from fuzzy.classes import Domain, Set\n",
    "from fuzzy.functions import alpha, triangular\n",
    "from fuzzy.hedges import plus, minus, very\n",
    "\n",
    "numbers = Domain(\"numbers\", 0, 20, res=0.1)\n",
    "\n",
    "close_to_10 = Set(alpha(0.2, 0.8, triangular(0, 20)))\n",
    "close_to_5 = Set(triangular(1,10))\n",
    "\n",
    "numbers.foo = minus(close_to_5)\n",
    "numbers.bar = very(close_to_10)\n",
    "\n",
    "numbers.bar.plot()\n",
    "numbers.foo.plot()\n",
    "numbers.baz = numbers.foo + numbers.bar\n",
    "numbers.baz.plot()\n",
    "\n",
    "numbers(8)"
   ]
  },
  {
   "cell_type": "markdown",
   "metadata": {},
   "source": [
    "### Inference\n",
    "\n",
    "After measuring a RL value and mapping it to sets within a domain, it is normally needed to translate the result to another domain that corresponds to some sort of control mechanism. This translation or mapping is called inference and is rooted in the logical conclusion operation A => B, for example: If it rains then the street is wet.\n",
    "The street may be wet for a number of reasons, but if it rains it will be wet for sure. This **IF A THEN B** can also be written as\n",
    "***(A AND B) OR NOT(A AND TRUE)***. This may look straight forward for boolean logic, but since we are not just dealing with True and False, there are a number of ways in fuzzy logic to actually implement this."
   ]
  },
  {
   "cell_type": "code",
   "execution_count": null,
   "metadata": {
    "collapsed": false
   },
   "outputs": [],
   "source": [
    "%matplotlib inline\n",
    "\n",
    "from fuzzy.classes import Domain, Set, Rule\n",
    "from fuzzy.functions import alpha, triangular, gauss, R, S\n",
    "import fuzzy.functions as fun\n",
    "from fuzzy.hedges import plus, minus, very\n",
    "\n",
    "IN = Domain(\"numbers in\", 0, 10, res=0.1)\n",
    "IN.close_5 = Set(triangular(2, 10, c=5))\n",
    "OUT = Domain(\"numbers out\", 100, 200)\n",
    "\n",
    "D = Domain(\"d\", 0, 10, res=0.1)\n",
    "D.s1 = Set(fun.bounded_linear(3, 12))\n",
    "D.s2 = ~~D.s1\n",
    "all(isclose(D.s1.array(), D.s2.array()))"
   ]
  },
  {
   "cell_type": "code",
   "execution_count": null,
   "metadata": {
    "collapsed": false
   },
   "outputs": [],
   "source": [
    "from numpy import outer\n",
    "\n",
    "from fuzzy.classes import Domain, Set, Rule\n",
    "from fuzzy.functions import triangular\n",
    "\n",
    "form = Domain(\"form\", 1, 4.1, res=1)\n",
    "medium_form = Set(form, triangular(1, 4, p=3))\n",
    "medium_form.plot()\n",
    "\n",
    "diff = Domain(\"difficulty\", 1, 5.1, res=1)\n",
    "medium_difficulty = Set(diff, triangular(1,5, p=3))\n",
    "medium_difficulty.plot()\n",
    "\n",
    "# this should be\n",
    "# max(min(m_a(x), m_b(x)), 1-m_a(x)) for every elem\n",
    "outer([0, 0.6, 1, 0.2], [0, 0.4, 1, 0.8, 0.3, 0])\n",
    "\n",
    "\n",
    "fromiter"
   ]
  },
  {
   "cell_type": "code",
   "execution_count": null,
   "metadata": {
    "collapsed": false
   },
   "outputs": [],
   "source": [
    "%matplotlib inline\n",
    "\n",
    "from fuzzy.classes import Domain, Set\n",
    "from fuzzy.functions import alpha, triangular\n",
    "from fuzzy.hedges import plus, minus, very\n",
    "\n",
    "numbers = Domain(\"numbers\", 0, 20, res=0.1)\n",
    "\n",
    "close_to_10 = Set(alpha(0.2, 0.8, triangular(0, 20)))\n",
    "close_to_5 = Set(triangular(1,10))\n",
    "\n",
    "numbers.foo = minus(close_to_5)\n",
    "numbers.bar = very(close_to_10)\n",
    "\n",
    "numbers.bar.plot()\n",
    "numbers.foo.plot()\n",
    "numbers.baz = numbers.foo + numbers.bar\n",
    "numbers.baz.plot()\n",
    "\n",
    "numbers(8)"
   ]
  },
  {
   "cell_type": "code",
   "execution_count": null,
   "metadata": {
    "collapsed": false
   },
   "outputs": [],
   "source": [
    "%matplotlib inline\n",
    "\n",
    "from fuzzy.classes import Domain, Set\n",
    "from fuzzy.functions import alpha, triangular, trapezoid, normalize\n",
    "from fuzzy.hedges import plus, minus, very\n",
    "\n",
    "N = Domain(\"numbers\", 3, 6, res=0.1)\n",
    "N.two_or_so = Set(alpha(0, 0.7, trapezoid(0, 1.9, 2.1, 4)))\n",
    "N.two_or_so.plot()\n",
    "x = N.two_or_so.normalized()\n",
    "x.plot()\n",
    "len(x.array())"
   ]
  },
  {
   "cell_type": "markdown",
   "metadata": {},
   "source": [
    "## Sources\n",
    "* Fuzzy Logic and Control: Software and Hardware Applications, Volume 2\n",
    "\n",
    "      By: Mohammad Jamshidi; Nader Vadiee; Timothy J. Ross - University of New Mexico\n",
    "      Publisher: Prentice Hall\n",
    "      Pub. Date: June 07, 1993"
   ]
  }
 ],
 "metadata": {
  "anaconda-cloud": {},
  "kernelspec": {
   "display_name": "Python 3",
   "language": "python",
   "name": "python3"
  },
  "language_info": {
   "codemirror_mode": {
    "name": "ipython",
    "version": 3
   },
   "file_extension": ".py",
   "mimetype": "text/x-python",
   "name": "python",
   "nbconvert_exporter": "python",
   "pygments_lexer": "ipython3",
   "version": "3.6.0+"
  }
 },
 "nbformat": 4,
 "nbformat_minor": 0
}
