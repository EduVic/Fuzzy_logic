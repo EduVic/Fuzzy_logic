{
 "cells": [
  {
   "cell_type": "markdown",
   "metadata": {},
   "source": [
    "### precedence\n",
    "order of precedence should be:\n",
    "\n",
    "1. hedges, not\n",
    "2. and\n",
    "3. or"
   ]
  },
  {
   "cell_type": "code",
   "execution_count": null,
   "metadata": {
    "collapsed": false,
    "scrolled": true
   },
   "outputs": [],
   "source": [
    "from numba import jit\n",
    "\n",
    "class Set:\n",
    "    def __init__(self, value):\n",
    "        self.value = value\n",
    "    \n",
    "    def __and__(self, other):\n",
    "        return Set(self.value * other.value)\n",
    "\n",
    "s1 = Set(2)\n",
    "s2 = Set(3)\n",
    "s3 = s1 & s2\n",
    "\n",
    "def test1():\n",
    "    return s3.value\n",
    "\n",
    "def test2():\n",
    "    return 2*3\n",
    "\n",
    "%timeit test1()\n",
    "%timeit test2()"
   ]
  },
  {
   "cell_type": "code",
   "execution_count": null,
   "metadata": {
    "collapsed": false
   },
   "outputs": [],
   "source": [
    "%matplotlib inline\n",
    "from classes import Domain, Set, Rule\n",
    "from functions import S, R\n",
    "\n",
    "zeit = Domain(\"time\", low=0, high=24, res=0.1)\n",
    "morgen = Set(zeit, S(0, 8))\n",
    "abend = Set(zeit, R(18, 24))\n",
    "mittag = ~morgen & ~abend\n",
    "\n",
    "morgen.plot()\n",
    "abend.plot()\n",
    "mittag.plot()\n"
   ]
  },
  {
   "cell_type": "code",
   "execution_count": null,
   "metadata": {
    "collapsed": false
   },
   "outputs": [],
   "source": [
    "import numpy"
   ]
  },
  {
   "cell_type": "code",
   "execution_count": null,
   "metadata": {
    "collapsed": false
   },
   "outputs": [],
   "source": [
    "from fuzzy.classes import Domain, Set, Rule\n",
    "from fuzzy.functions import S, R\n",
    "\n",
    "dist = Domain(\"distance\", low=0, high=1000, res=0.1)\n",
    "near = Set(dist, S(0, 100))\n",
    "\n",
    "standing = Domain(\"standing\", low=0, high=100)\n",
    "friendly = Set(standing, R(0, 100))\n",
    "\n",
    "reaction = Domain(\"reaction\", low=0, high=10)\n",
    "aggro = IF(near & ~friendly, reaction)"
   ]
  }
 ],
 "metadata": {
  "anaconda-cloud": {},
  "kernelspec": {
   "display_name": "Python 3",
   "language": "python",
   "name": "python3"
  },
  "language_info": {
   "codemirror_mode": {
    "name": "ipython",
    "version": 3
   },
   "file_extension": ".py",
   "mimetype": "text/x-python",
   "name": "python",
   "nbconvert_exporter": "python",
   "pygments_lexer": "ipython3",
   "version": "3.6.0+"
  }
 },
 "nbformat": 4,
 "nbformat_minor": 0
}
